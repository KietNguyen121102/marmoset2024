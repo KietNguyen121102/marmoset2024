{
 "cells": [
  {
   "cell_type": "code",
   "execution_count": 4,
   "metadata": {},
   "outputs": [
    {
     "name": "stdout",
     "output_type": "stream",
     "text": [
      "Saved 22 frames containing the checkerboard pattern.\n"
     ]
    }
   ],
   "source": [
    "import cv2\n",
    "import os\n",
    "\n",
    "# Parameters for checkerboard pattern\n",
    "checkerboard_size = (8, 6)  # Number of inner corners per a chessboard row and column\n",
    "frame_interval = 30  # Process every 30th frame (adjust as needed)\n",
    "output_folder = 'extracted_frames_left_cam'\n",
    "\n",
    "# Create output folder if it doesn't exist\n",
    "if not os.path.exists(output_folder):\n",
    "    os.makedirs(output_folder)\n",
    "\n",
    "# Open the video file\n",
    "video_path = 'Calib_1.MP4'\n",
    "cap = cv2.VideoCapture(video_path)\n",
    "\n",
    "frame_count = 0\n",
    "saved_frame_count = 0\n",
    "\n",
    "while cap.isOpened():\n",
    "    ret, frame = cap.read()\n",
    "    if not ret:\n",
    "        break\n",
    "\n",
    "    if frame_count % frame_interval == 0:\n",
    "        gray = cv2.cvtColor(frame, cv2.COLOR_BGR2GRAY)\n",
    "        ret, corners = cv2.findChessboardCorners(gray, checkerboard_size, None)\n",
    "\n",
    "        if ret:\n",
    "            frame_filename = os.path.join(output_folder, f'frame_{saved_frame_count:04d}.png')\n",
    "            cv2.imwrite(frame_filename, frame)\n",
    "            saved_frame_count += 1\n",
    "\n",
    "    frame_count += 1\n",
    "\n",
    "cap.release()\n",
    "cv2.destroyAllWindows()\n",
    "\n",
    "print(f\"Saved {saved_frame_count} frames containing the checkerboard pattern.\")"
   ]
  },
  {
   "cell_type": "code",
   "execution_count": 18,
   "metadata": {},
   "outputs": [
    {
     "data": {
      "text/plain": [
       "Viewer(camera=Camera(center=(0.0, 0.0, 0.0), zoom=1.0, angles=(0.0, 0.0, 90.0), perspective=0.0, mouse_pan=True, mouse_zoom=True), cursor=Cursor(position=(1.0, 1.0), scaled=True, size=1, style=<CursorStyle.STANDARD: 'standard'>), dims=Dims(ndim=2, ndisplay=2, last_used=0, range=((0, 2, 1), (0, 2, 1)), current_step=(0, 0), order=(0, 1), axis_labels=('0', '1')), grid=GridCanvas(stride=1, shape=(-1, -1), enabled=False), layers=[], help='', status='Ready', tooltip=Tooltip(visible=False, text=''), theme='dark', title='napari', mouse_over_canvas=False, mouse_move_callbacks=[], mouse_drag_callbacks=[], mouse_double_click_callbacks=[], mouse_wheel_callbacks=[<function dims_scroll at 0x000001CF266A4160>], _persisted_mouse_event={}, _mouse_drag_gen={}, _mouse_wheel_gen={}, keymap={})"
      ]
     },
     "execution_count": 18,
     "metadata": {},
     "output_type": "execute_result"
    }
   ],
   "source": [
    "import napari\n",
    "napari.Viewer()"
   ]
  },
  {
   "cell_type": "code",
   "execution_count": 3,
   "metadata": {},
   "outputs": [
    {
     "name": "stdout",
     "output_type": "stream",
     "text": [
      "Stereo calibration completed successfully.\n"
     ]
    }
   ],
   "source": [
    "import cv2\n",
    "import numpy as np\n",
    "import glob\n",
    "\n",
    "# Parameters for the checkerboard pattern\n",
    "checkerboard_size = (8, 6)  # Number of inner corners per a chessboard row and column\n",
    "square_size = 1.0  # Square size in your defined unit (e.g., meters or millimeters)\n",
    "\n",
    "# Termination criteria for corner sub-pixel accuracy\n",
    "criteria = (cv2.TERM_CRITERIA_EPS + cv2.TERM_CRITERIA_MAX_ITER, 30, 0.001)\n",
    "\n",
    "# Prepare object points, e.g., (0,0,0), (1,0,0), (2,0,0), ..., (8,5,0)\n",
    "objp = np.zeros((np.prod(checkerboard_size), 3), np.float32)\n",
    "objp[:, :2] = np.mgrid[0:checkerboard_size[0], 0:checkerboard_size[1]].T.reshape(-1, 2)\n",
    "objp *= square_size\n",
    "\n",
    "# Arrays to store object points and image points from all the images\n",
    "objpoints = []\n",
    "imgpoints_left = []\n",
    "imgpoints_right = []\n",
    "\n",
    "# Read image pairs\n",
    "images_right = glob.glob('/Users/omohan/Documents/marmoset2024/extracted_frames_right_cam/*.png')  # Path to the left images\n",
    "images_left = glob.glob('/Users/omohan/Documents/marmoset2024/extracted_frames_left_cam/*.png')  # Path to the right images\n",
    "\n",
    "\n",
    "for img_left, img_right in zip(images_left, images_right):\n",
    "    imgL = cv2.imread(img_left)\n",
    "    imgR = cv2.imread(img_right)\n",
    "    grayL = cv2.cvtColor(imgL, cv2.COLOR_BGR2GRAY)\n",
    "    grayR = cv2.cvtColor(imgR, cv2.COLOR_BGR2GRAY)\n",
    "\n",
    "    # Find the chessboard corners\n",
    "    retL, cornersL = cv2.findChessboardCorners(grayL, checkerboard_size, None)\n",
    "    retR, cornersR = cv2.findChessboardCorners(grayR, checkerboard_size, None)\n",
    "\n",
    "    # If found, add object points, image points (after refining them)\n",
    "    if retL and retR:\n",
    "        objpoints.append(objp)\n",
    "\n",
    "        corners2L = cv2.cornerSubPix(grayL, cornersL, (11, 11), (-1, -1), criteria)\n",
    "        imgpoints_left.append(corners2L)\n",
    "\n",
    "        corners2R = cv2.cornerSubPix(grayR, cornersR, (11, 11), (-1, -1), criteria)\n",
    "        imgpoints_right.append(corners2R)\n",
    "\n",
    "        # Draw and display the corners\n",
    "        cv2.drawChessboardCorners(imgL, checkerboard_size, corners2L, retL)\n",
    "        cv2.drawChessboardCorners(imgR, checkerboard_size, corners2R, retR)\n",
    "        cv2.imshow('Left', imgL)\n",
    "        cv2.imshow('Right', imgR)\n",
    "        cv2.waitKey(500)\n",
    "\n",
    "cv2.destroyAllWindows()\n",
    "\n",
    "# Calibrate each camera individually\n",
    "retL, mtxL, distL, rvecsL, tvecsL = cv2.calibrateCamera(objpoints, imgpoints_left, grayL.shape[::-1], None, None)\n",
    "retR, mtxR, distR, rvecsR, tvecsR = cv2.calibrateCamera(objpoints, imgpoints_right, grayR.shape[::-1], None, None)\n",
    "\n",
    "# Stereo calibration\n",
    "flags = cv2.CALIB_FIX_INTRINSIC\n",
    "criteria_stereo = (cv2.TERM_CRITERIA_EPS + cv2.TERM_CRITERIA_MAX_ITER, 30, 1e-6)\n",
    "ret, mtxL, distL, mtxR, distR, R, T, E, F = cv2.stereoCalibrate(objpoints, imgpoints_left, imgpoints_right,\n",
    "                                                                mtxL, distL, mtxR, distR, grayL.shape[::-1],\n",
    "                                                                criteria_stereo, flags)\n",
    "\n",
    "# Stereo rectification\n",
    "R1, R2, P1, P2, Q, roi1, roi2 = cv2.stereoRectify(mtxL, distL, mtxR, distR, grayL.shape[::-1], R, T)\n",
    "\n",
    "# Save calibration results\n",
    "np.savez('stereo_calibration.npz', ret=ret, mtxL=mtxL, distL=distL, mtxR=mtxR, distR=distR, R=R, T=T, E=E, F=F, R1=R1, R2=R2, P1=P1, P2=P2, Q=Q, roi1=roi1, roi2=roi2)\n",
    "\n",
    "print(\"Stereo calibration completed successfully.\")\n"
   ]
  },
  {
   "cell_type": "code",
   "execution_count": 4,
   "metadata": {},
   "outputs": [
    {
     "name": "stdout",
     "output_type": "stream",
     "text": [
      "[[1.01867865e+03 0.00000000e+00 5.49645749e+02]\n",
      " [0.00000000e+00 1.01827400e+03 9.58603078e+02]\n",
      " [0.00000000e+00 0.00000000e+00 1.00000000e+00]]\n"
     ]
    }
   ],
   "source": [
    "import cv2\n",
    "import numpy as np\n",
    "import matplotlib.pyplot as plt\n",
    "from mpl_toolkits.mplot3d import Axes3D\n",
    "\n",
    "\n",
    "\n",
    "# Load stereo calibration parameters (example)\n",
    "calibration_data = np.load('stereo_calibration.npz')\n",
    "K1 = calibration_data['mtxL']\n",
    "D1 = calibration_data['distL']\n",
    "K2 = calibration_data['mtxR']\n",
    "D2 = calibration_data['distR']\n",
    "R = calibration_data['R']\n",
    "T = calibration_data['T']\n",
    "\n",
    "print(K1)\n",
    "\n",
    "\n"
   ]
  },
  {
   "cell_type": "code",
   "execution_count": 13,
   "metadata": {},
   "outputs": [
    {
     "name": "stdout",
     "output_type": "stream",
     "text": [
      "(2, 6)\n",
      "(2, 6)\n",
      "(3, 4)\n",
      "[[ 1.05549531e-01 -2.34418986e-01 -3.68171775e-01 -4.07934508e-01\n",
      "  -4.61630179e-01 -4.81486841e-01]\n",
      " [-3.55439783e-03  2.04415746e-01  9.57604227e-02  3.55350508e-01\n",
      "   2.16096142e-01  2.78150293e-03]\n",
      " [ 1.03901325e+01  1.04967795e+01  1.04102839e+01  1.05132151e+01\n",
      "   1.03232960e+01  1.00577243e+01]]\n",
      "[ 0.10554953 -0.23441899 -0.36817177 -0.40793451 -0.46163018 -0.48148684]\n"
     ]
    },
    {
     "data": {
      "image/png": "[encoded data removed]",
      "text/plain": [
       "<Figure size 432x288 with 1 Axes>"
      ]
     },
     "metadata": {
      "needs_background": "light"
     },
     "output_type": "display_data"
    }
   ],
   "source": [
    "import pandas as pd\n",
    "# df = pd.read_csv('C:\\\\Users\\\\marmolab\\\\Kiet752024\\\\boxmoving-Kiet-2024-08-27\\\\labeled-data\\\\rightCamera\\\\CollectedData_Kiet.csv')\n",
    "\n",
    "corners_left = np.array([[417.2843008\t,\t394.4333115\t,\t380.6471774\t,\t380.6471774\t,\t367.616448\t,\t353.2637605\t\n",
    "\t\n",
    "]\t,[\t952.7509237\t,\t970.691783\t,\t960.1161186\t,\t984.2890659\t,\t971.2583365\t,\t950.1070075]])\n",
    "\n",
    "corners_left_undistort = cv2.undistortImagePoints(corners_left, K2, D2)\n",
    "print(corners_left.shape)\n",
    "\n",
    "\n",
    "corners_right = np.array([[556.8080483\t,\t523.7766145\t,\t510.8583805\t,\t506.9338537\t,\t501.2105854\t,\t498.4307123\n",
    "]\t\n",
    ", [\t\t868.3171232\t,\t886.1410157\t,\t874.5309573\t,\t898.5686839\t,\t884.6693182\t,\t863.7385086]])\n",
    "\n",
    "corners_right_undistort = cv2.undistortImagePoints(corners_right, K1, D1)\n",
    "print(corners_right.shape)\n",
    "\n",
    "\n",
    "\n",
    "P1 = np.hstack((K1, np.zeros((3,1))))\n",
    "RT = np.hstack((R,T))\n",
    "K2_RT = np.dot(K2, RT)\n",
    "print(K2_RT.shape)\n",
    "P2 = np.dot(K2,RT)\n",
    "\n",
    "points_4D = cv2.triangulatePoints(P2,P1, corners_left_undistort, corners_right_undistort)\n",
    "points_3D = points_4D[:3] / points_4D[3]\n",
    "print(points_3D)\n",
    "\n",
    "x_3d,y_3d,z_3d = points_3D\n",
    "\n",
    "fig = plt.figure()\n",
    "ax = fig.add_subplot(111, projection = '3d')\n",
    "\n",
    "ax.scatter(x_3d, y_3d, z_3d, c='r', marker='o')\n",
    "\n",
    "\n",
    "# ax.plot([x_3d[0], x_3d[1]], [y_3d[0], y_3d[1]], [z_3d[0], z_3d[1]], c='b')\n",
    "# ax.plot([x_3d[2], x_3d[3]], [y_3d[2], y_3d[3]], [z_3d[2], z_3d[3]], c='b')\n",
    "# ax.plot([x_3d[1], x_3d[3]], [y_3d[1], y_3d[3]], [z_3d[1], z_3d[3]], c='b')\n",
    "# ax.plot([x_3d[0], x_3d[2]], [y_3d[0], y_3d[2]], [z_3d[0], z_3d[2]], c='b')\n",
    "\n",
    "\n",
    "\n",
    "\n",
    "\n",
    "\n",
    "print(x_3d)\n",
    "ax.set_xlabel('X axis')\n",
    "ax.set_ylabel('Y axis')\n",
    "ax.set_zlabel('Z axis')\n",
    "\n",
    "plt.ion()\n",
    "plt.show()\n"
   ]
  },
  {
   "cell_type": "code",
   "execution_count": 5,
   "metadata": {},
   "outputs": [
    {
     "name": "stdout",
     "output_type": "stream",
     "text": [
      "Requirement already satisfied: plotly in /Users/omohan/opt/anaconda3/lib/python3.9/site-packages (5.24.1)\n",
      "Requirement already satisfied: packaging in /Users/omohan/opt/anaconda3/lib/python3.9/site-packages (from plotly) (21.0)\n",
      "Requirement already satisfied: tenacity>=6.2.0 in /Users/omohan/opt/anaconda3/lib/python3.9/site-packages (from plotly) (9.0.0)\n",
      "Requirement already satisfied: pyparsing>=2.0.2 in /Users/omohan/opt/anaconda3/lib/python3.9/site-packages (from packaging->plotly) (3.0.4)\n"
     ]
    }
   ],
   "source": [
    "!pip install plotly"
   ]
  },
  {
   "cell_type": "code",
   "execution_count": 6,
   "metadata": {},
   "outputs": [
    {
     "name": "stdout",
     "output_type": "stream",
     "text": [
      "['556.7849621884856' '524.7680688960946' '510.82011538257774'\n",
      " '505.51320228880707' '501.62714602139613' '497.18916081254986']\n"
     ]
    }
   ],
   "source": [
    "import pandas as pd \n",
    "df_right = pd.read_csv('/Users/omohan/Documents/marmoset2024/R2_labels.csv')\n",
    "right_points = [[]]\n",
    "for index, row in df_right.iterrows():\n",
    "    right_points.append(row[3:].to_numpy())  # Convert each row to an array\n",
    "right_points = right_points[3:]\n",
    "\n",
    "right_camera_x_coordinate = []\n",
    "right_camera_y_coordinate = []\n",
    "# print(right_points)\n",
    "for point in right_points:\n",
    "    right_camera_x_coordinate.append(point[::2])\n",
    "    right_camera_y_coordinate.append(point[1::2])\n",
    "\n",
    "df_left = pd.read_csv('/Users/omohan/Documents/marmoset2024/R1_labels.csv')\n",
    "left_points = []\n",
    "for index, row in df_left.iterrows():\n",
    "    left_points.append(row[3:].to_numpy())  # Convert each row to an array\n",
    "left_points = left_points[3:]\n",
    "\n",
    "left_camera_x_coordinate = []\n",
    "left_camera_y_coordinate = []\n",
    "# print(right_points)\n",
    "for point in right_points:\n",
    "    left_camera_x_coordinate.append(point[::2])\n",
    "    left_camera_y_coordinate.append(point[1::2])\n",
    "\n",
    "\n",
    "# print(df_right)\n",
    "# df_left = pd.read_csv('C:\\\\Users\\\\marmolab\\\\Kiet752024\\\\checkerboardmoving-Kiet-2024-10-11\\\\labeled-data\\\\leftCheckerboard\\\\CollectedData_Kiet [1].csv ')\n",
    "# print(df_left)\n",
    "\n",
    "print(left_camera_x_coordinate[0])"
   ]
  },
  {
   "cell_type": "code",
   "execution_count": 7,
   "metadata": {},
   "outputs": [
    {
     "name": "stdout",
     "output_type": "stream",
     "text": [
      "Requirement already satisfied: kaleido in /Users/omohan/opt/anaconda3/lib/python3.9/site-packages (0.2.1)\n"
     ]
    }
   ],
   "source": [
    "!pip install -U kaleido"
   ]
  },
  {
   "cell_type": "code",
   "execution_count": 21,
   "metadata": {},
   "outputs": [
    {
     "data": {
      "application/vnd.plotly.v1+json": {
       "config": {
        "plotlyServerURL": "https://plot.ly"
       },
       "data": [
        {
         "marker": {
          "color": "red",
          "size": 5
         },
         "mode": "markers",
         "name": "3D Points",
         "type": "scatter3d",
         "x": [
          0.5453691562761351,
          0.12344769181592774,
          -0.06599309399637576,
          -0.13426338979666053,
          -0.18861357661133304,
          -0.25072547808427803
         ],
         "y": [
          -1.9310112105459232,
          -1.767514617087945,
          -1.9247218493965148,
          -1.6202441100474438,
          -1.7956752993094383,
          -2.0474923768966016
         ],
         "z": [
          13.599065390650553,
          13.758803189735607,
          13.751838518875944,
          13.855093970762761,
          13.812825251385245,
          13.749061113954689
         ]
        },
        {
         "line": {
          "color": "black",
          "width": 2
         },
         "mode": "lines",
         "name": "Connecting Lines",
         "type": "scatter3d",
         "x": [
          5.254922016704946,
          6.5083404148371775
         ],
         "y": [
          -5.1329981965707745,
          6.646032172563986
         ],
         "z": [
          9.998326303160285,
          14.604643616648923
         ]
        },
        {
         "line": {
          "color": "black",
          "width": 2
         },
         "mode": "lines",
         "name": "Connecting Lines",
         "type": "scatter3d",
         "x": [
          6.5083404148371775,
          -4.705319947962029
         ],
         "y": [
          6.646032172563986,
          6.246381228589714
         ],
         "z": [
          14.604643616648923,
          16.47924025433047
         ]
        },
        {
         "line": {
          "color": "black",
          "width": 2
         },
         "mode": "lines",
         "name": "Connecting Lines",
         "type": "scatter3d",
         "x": [
          -4.705319947962029,
          -5.75729742307007
         ],
         "y": [
          6.246381228589714,
          -4.515305941489855
         ],
         "z": [
          16.47924025433047,
          11.650978240869813
         ]
        },
        {
         "line": {
          "color": "blue",
          "width": 2
         },
         "mode": "lines",
         "name": "Connecting Lines",
         "type": "scatter3d",
         "x": [
          0.12344769181592774,
          0.5453691562761351
         ],
         "y": [
          -1.767514617087945,
          -1.9310112105459232
         ],
         "z": [
          13.758803189735607,
          13.599065390650553
         ]
        },
        {
         "line": {
          "color": "black",
          "width": 2
         },
         "mode": "lines",
         "name": "Connecting Lines",
         "type": "scatter3d",
         "x": [
          1.336823697874217,
          1.5316062785840892
         ],
         "y": [
          -3.4632479129654534,
          0.3161575746211769
         ],
         "z": [
          7.960437089251478,
          9.1379650669148
         ]
        },
        {
         "line": {
          "color": "black",
          "width": 2
         },
         "mode": "lines",
         "name": "Connecting Lines",
         "type": "scatter3d",
         "x": [
          1.5316062785840892,
          -2.4141055338886366
         ],
         "y": [
          0.3161575746211769,
          0.3304872831566792
         ],
         "z": [
          9.1379650669148,
          10.250885095032322
         ]
        },
        {
         "line": {
          "color": "black",
          "width": 2
         },
         "mode": "lines",
         "name": "Connecting Lines",
         "type": "scatter3d",
         "x": [
          -2.4141055338886366,
          -2.828986784453345
         ],
         "y": [
          0.3304872831566792,
          -3.572715821999729
         ],
         "z": [
          10.250885095032322,
          9.254454481515534
         ]
        },
        {
         "line": {
          "color": "blue",
          "width": 2
         },
         "mode": "lines",
         "name": "Connecting Lines",
         "type": "scatter3d",
         "x": [
          0.12344769181592774,
          -0.18861357661133304
         ],
         "y": [
          -1.767514617087945,
          -1.7956752993094383
         ],
         "z": [
          13.758803189735607,
          13.812825251385245
         ]
        },
        {
         "line": {
          "color": "blue",
          "width": 2
         },
         "mode": "lines",
         "name": "Connecting Lines",
         "type": "scatter3d",
         "x": [
          -0.25072547808427803,
          -0.18861357661133304
         ],
         "y": [
          -2.0474923768966016,
          -1.7956752993094383
         ],
         "z": [
          13.749061113954689,
          13.812825251385245
         ]
        },
        {
         "line": {
          "color": "blue",
          "width": 2
         },
         "mode": "lines",
         "name": "Connecting Lines",
         "type": "scatter3d",
         "x": [
          -0.06599309399637576,
          -0.13426338979666053
         ],
         "y": [
          -1.9247218493965148,
          -1.6202441100474438
         ],
         "z": [
          13.751838518875944,
          13.855093970762761
         ]
        },
        {
         "line": {
          "color": "black",
          "width": 2
         },
         "mode": "lines",
         "name": "Connecting Lines",
         "type": "scatter3d",
         "x": [
          5.254922016704946,
          1.336823697874217
         ],
         "y": [
          -5.1329981965707745,
          -3.4632479129654534
         ],
         "z": [
          9.998326303160285,
          7.960437089251478
         ]
        },
        {
         "line": {
          "color": "black",
          "width": 2
         },
         "mode": "lines",
         "name": "Connecting Lines",
         "type": "scatter3d",
         "x": [
          6.5083404148371775,
          1.5316062785840892
         ],
         "y": [
          6.646032172563986,
          0.3161575746211769
         ],
         "z": [
          14.604643616648923,
          9.1379650669148
         ]
        },
        {
         "line": {
          "color": "black",
          "width": 2
         },
         "mode": "lines",
         "name": "Connecting Lines",
         "type": "scatter3d",
         "x": [
          -4.705319947962029,
          -2.4141055338886366
         ],
         "y": [
          6.246381228589714,
          0.3304872831566792
         ],
         "z": [
          16.47924025433047,
          10.250885095032322
         ]
        },
        {
         "line": {
          "color": "black",
          "width": 2
         },
         "mode": "lines",
         "name": "Connecting Lines",
         "type": "scatter3d",
         "x": [
          -5.75729742307007,
          -2.828986784453345
         ],
         "y": [
          -4.515305941489855,
          -3.572715821999729
         ],
         "z": [
          11.650978240869813,
          9.254454481515534
         ]
        },
        {
         "line": {
          "color": "black",
          "width": 2
         },
         "mode": "lines",
         "name": "Connecting Lines",
         "type": "scatter3d",
         "x": [
          5.254922016704946,
          -5.75729742307007
         ],
         "y": [
          -5.1329981965707745,
          -4.515305941489855
         ],
         "z": [
          9.998326303160285,
          11.650978240869813
         ]
        },
        {
         "line": {
          "color": "black",
          "width": 2
         },
         "mode": "lines",
         "name": "Connecting Lines",
         "type": "scatter3d",
         "x": [
          1.336823697874217,
          -2.828986784453345
         ],
         "y": [
          -3.4632479129654534,
          -3.572715821999729
         ],
         "z": [
          7.960437089251478,
          9.254454481515534
         ]
        },
        {
         "line": {
          "color": "purple",
          "width": 2
         },
         "mode": "lines",
         "name": "Back of the box",
         "opacity": 0.5,
         "surfaceaxis": 2,
         "surfacecolor": "purple",
         "type": "scatter3d",
         "x": [
          1.336823697874217,
          1.5316062785840892,
          -2.4141055338886366,
          -2.828986784453345
         ],
         "y": [
          -3.4632479129654534,
          0.3161575746211769,
          0.3304872831566792,
          -3.572715821999729
         ],
         "z": [
          7.960437089251478,
          9.1379650669148,
          10.250885095032322,
          9.254454481515534
         ]
        },
        {
         "line": {
          "color": "yellow",
          "width": 2
         },
         "mode": "lines",
         "name": "Bottom of the box",
         "opacity": 0.5,
         "surfaceaxis": 2,
         "surfacecolor": "yellow",
         "type": "scatter3d",
         "x": [
          6.5083404148371775,
          1.5316062785840892,
          -2.4141055338886366,
          -4.705319947962029
         ],
         "y": [
          6.646032172563986,
          0.3161575746211769,
          0.3304872831566792,
          6.246381228589714
         ],
         "z": [
          14.604643616648923,
          9.1379650669148,
          10.250885095032322,
          16.47924025433047
         ]
        },
        {
         "line": {
          "color": "green",
          "width": 2
         },
         "mode": "lines",
         "name": "Top of the box",
         "opacity": 0.5,
         "surfaceaxis": 2,
         "surfacecolor": "green",
         "type": "scatter3d",
         "x": [
          1.336823697874217,
          5.254922016704946,
          -5.75729742307007,
          -2.828986784453345
         ],
         "y": [
          -3.4632479129654534,
          -5.1329981965707745,
          -4.515305941489855,
          -3.572715821999729
         ],
         "z": [
          7.960437089251478,
          9.998326303160285,
          11.650978240869813,
          9.254454481515534
         ]
        }
       ],
       "layout": {
        "scene": {
         "xaxis": {
          "title": {
           "text": "X axis"
          }
         },
         "yaxis": {
          "title": {
           "text": "Y axis"
          }
         },
         "zaxis": {
          "title": {
           "text": "Z axis"
          }
         }
        },
        "template": {
         "data": {
          "bar": [
           {
            "error_x": {
             "color": "#2a3f5f"
            },
            "error_y": {
             "color": "#2a3f5f"
            },
            "marker": {
             "line": {
              "color": "#E5ECF6",
              "width": 0.5
             },
             "pattern": {
              "fillmode": "overlay",
              "size": 10,
              "solidity": 0.2
             }
            },
            "type": "bar"
           }
          ],
          "barpolar": [
           {
            "marker": {
             "line": {
              "color": "#E5ECF6",
              "width": 0.5
             },
             "pattern": {
              "fillmode": "overlay",
              "size": 10,
              "solidity": 0.2
             }
            },
            "type": "barpolar"
           }
          ],
          "carpet": [
           {
            "aaxis": {
             "endlinecolor": "#2a3f5f",
             "gridcolor": "white",
             "linecolor": "white",
             "minorgridcolor": "white",
             "startlinecolor": "#2a3f5f"
            },
            "baxis": {
             "endlinecolor": "#2a3f5f",
             "gridcolor": "white",
             "linecolor": "white",
             "minorgridcolor": "white",
             "startlinecolor": "#2a3f5f"
            },
            "type": "carpet"
           }
          ],
          "choropleth": [
           {
            "colorbar": {
             "outlinewidth": 0,
             "ticks": ""
            },
            "type": "choropleth"
           }
          ],
          "contour": [
           {
            "colorbar": {
             "outlinewidth": 0,
             "ticks": ""
            },
            "colorscale": [
             [
              0,
              "#0d0887"
             ],
             [
              0.1111111111111111,
              "#46039f"
             ],
             [
              0.2222222222222222,
              "#7201a8"
             ],
             [
              0.3333333333333333,
              "#9c179e"
             ],
             [
              0.4444444444444444,
              "#bd3786"
             ],
             [
              0.5555555555555556,
              "#d8576b"
             ],
             [
              0.6666666666666666,
              "#ed7953"
             ],
             [
              0.7777777777777778,
              "#fb9f3a"
             ],
             [
              0.8888888888888888,
              "#fdca26"
             ],
             [
              1,
              "#f0f921"
             ]
            ],
            "type": "contour"
           }
          ],
          "contourcarpet": [
           {
            "colorbar": {
             "outlinewidth": 0,
             "ticks": ""
            },
            "type": "contourcarpet"
           }
          ],
          "heatmap": [
           {
            "colorbar": {
             "outlinewidth": 0,
             "ticks": ""
            },
            "colorscale": [
             [
              0,
              "#0d0887"
             ],
             [
              0.1111111111111111,
              "#46039f"
             ],
             [
              0.2222222222222222,
              "#7201a8"
             ],
             [
              0.3333333333333333,
              "#9c179e"
             ],
             [
              0.4444444444444444,
              "#bd3786"
             ],
             [
              0.5555555555555556,
              "#d8576b"
             ],
             [
              0.6666666666666666,
              "#ed7953"
             ],
             [
              0.7777777777777778,
              "#fb9f3a"
             ],
             [
              0.8888888888888888,
              "#fdca26"
             ],
             [
              1,
              "#f0f921"
             ]
            ],
            "type": "heatmap"
           }
          ],
          "heatmapgl": [
           {
            "colorbar": {
             "outlinewidth": 0,
             "ticks": ""
            },
            "colorscale": [
             [
              0,
              "#0d0887"
             ],
             [
              0.1111111111111111,
              "#46039f"
             ],
             [
              0.2222222222222222,
              "#7201a8"
             ],
             [
              0.3333333333333333,
              "#9c179e"
             ],
             [
              0.4444444444444444,
              "#bd3786"
             ],
             [
              0.5555555555555556,
              "#d8576b"
             ],
             [
              0.6666666666666666,
              "#ed7953"
             ],
             [
              0.7777777777777778,
              "#fb9f3a"
             ],
             [
              0.8888888888888888,
              "#fdca26"
             ],
             [
              1,
              "#f0f921"
             ]
            ],
            "type": "heatmapgl"
           }
          ],
          "histogram": [
           {
            "marker": {
             "pattern": {
              "fillmode": "overlay",
              "size": 10,
              "solidity": 0.2
             }
            },
            "type": "histogram"
           }
          ],
          "histogram2d": [
           {
            "colorbar": {
             "outlinewidth": 0,
             "ticks": ""
            },
            "colorscale": [
             [
              0,
              "#0d0887"
             ],
             [
              0.1111111111111111,
              "#46039f"
             ],
             [
              0.2222222222222222,
              "#7201a8"
             ],
             [
              0.3333333333333333,
              "#9c179e"
             ],
             [
              0.4444444444444444,
              "#bd3786"
             ],
             [
              0.5555555555555556,
              "#d8576b"
             ],
             [
              0.6666666666666666,
              "#ed7953"
             ],
             [
              0.7777777777777778,
              "#fb9f3a"
             ],
             [
              0.8888888888888888,
              "#fdca26"
             ],
             [
              1,
              "#f0f921"
             ]
            ],
            "type": "histogram2d"
           }
          ],
          "histogram2dcontour": [
           {
            "colorbar": {
             "outlinewidth": 0,
             "ticks": ""
            },
            "colorscale": [
             [
              0,
              "#0d0887"
             ],
             [
              0.1111111111111111,
              "#46039f"
             ],
             [
              0.2222222222222222,
              "#7201a8"
             ],
             [
              0.3333333333333333,
              "#9c179e"
             ],
             [
              0.4444444444444444,
              "#bd3786"
             ],
             [
              0.5555555555555556,
              "#d8576b"
             ],
             [
              0.6666666666666666,
              "#ed7953"
             ],
             [
              0.7777777777777778,
              "#fb9f3a"
             ],
             [
              0.8888888888888888,
              "#fdca26"
             ],
             [
              1,
              "#f0f921"
             ]
            ],
            "type": "histogram2dcontour"
           }
          ],
          "mesh3d": [
           {
            "colorbar": {
             "outlinewidth": 0,
             "ticks": ""
            },
            "type": "mesh3d"
           }
          ],
          "parcoords": [
           {
            "line": {
             "colorbar": {
              "outlinewidth": 0,
              "ticks": ""
             }
            },
            "type": "parcoords"
           }
          ],
          "pie": [
           {
            "automargin": true,
            "type": "pie"
           }
          ],
          "scatter": [
           {
            "fillpattern": {
             "fillmode": "overlay",
             "size": 10,
             "solidity": 0.2
            },
            "type": "scatter"
           }
          ],
          "scatter3d": [
           {
            "line": {
             "colorbar": {
              "outlinewidth": 0,
              "ticks": ""
             }
            },
            "marker": {
             "colorbar": {
              "outlinewidth": 0,
              "ticks": ""
             }
            },
            "type": "scatter3d"
           }
          ],
          "scattercarpet": [
           {
            "marker": {
             "colorbar": {
              "outlinewidth": 0,
              "ticks": ""
             }
            },
            "type": "scattercarpet"
           }
          ],
          "scattergeo": [
           {
            "marker": {
             "colorbar": {
              "outlinewidth": 0,
              "ticks": ""
             }
            },
            "type": "scattergeo"
           }
          ],
          "scattergl": [
           {
            "marker": {
             "colorbar": {
              "outlinewidth": 0,
              "ticks": ""
             }
            },
            "type": "scattergl"
           }
          ],
          "scattermapbox": [
           {
            "marker": {
             "colorbar": {
              "outlinewidth": 0,
              "ticks": ""
             }
            },
            "type": "scattermapbox"
           }
          ],
          "scatterpolar": [
           {
            "marker": {
             "colorbar": {
              "outlinewidth": 0,
              "ticks": ""
             }
            },
            "type": "scatterpolar"
           }
          ],
          "scatterpolargl": [
           {
            "marker": {
             "colorbar": {
              "outlinewidth": 0,
              "ticks": ""
             }
            },
            "type": "scatterpolargl"
           }
          ],
          "scatterternary": [
           {
            "marker": {
             "colorbar": {
              "outlinewidth": 0,
              "ticks": ""
             }
            },
            "type": "scatterternary"
           }
          ],
          "surface": [
           {
            "colorbar": {
             "outlinewidth": 0,
             "ticks": ""
            },
            "colorscale": [
             [
              0,
              "#0d0887"
             ],
             [
              0.1111111111111111,
              "#46039f"
             ],
             [
              0.2222222222222222,
              "#7201a8"
             ],
             [
              0.3333333333333333,
              "#9c179e"
             ],
             [
              0.4444444444444444,
              "#bd3786"
             ],
             [
              0.5555555555555556,
              "#d8576b"
             ],
             [
              0.6666666666666666,
              "#ed7953"
             ],
             [
              0.7777777777777778,
              "#fb9f3a"
             ],
             [
              0.8888888888888888,
              "#fdca26"
             ],
             [
              1,
              "#f0f921"
             ]
            ],
            "type": "surface"
           }
          ],
          "table": [
           {
            "cells": {
             "fill": {
              "color": "#EBF0F8"
             },
             "line": {
              "color": "white"
             }
            },
            "header": {
             "fill": {
              "color": "#C8D4E3"
             },
             "line": {
              "color": "white"
             }
            },
            "type": "table"
           }
          ]
         },
         "layout": {
          "annotationdefaults": {
           "arrowcolor": "#2a3f5f",
           "arrowhead": 0,
           "arrowwidth": 1
          },
          "autotypenumbers": "strict",
          "coloraxis": {
           "colorbar": {
            "outlinewidth": 0,
            "ticks": ""
           }
          },
          "colorscale": {
           "diverging": [
            [
             0,
             "#8e0152"
            ],
            [
             0.1,
             "#c51b7d"
            ],
            [
             0.2,
             "#de77ae"
            ],
            [
             0.3,
             "#f1b6da"
            ],
            [
             0.4,
             "#fde0ef"
            ],
            [
             0.5,
             "#f7f7f7"
            ],
            [
             0.6,
             "#e6f5d0"
            ],
            [
             0.7,
             "#b8e186"
            ],
            [
             0.8,
             "#7fbc41"
            ],
            [
             0.9,
             "#4d9221"
            ],
            [
             1,
             "#276419"
            ]
           ],
           "sequential": [
            [
             0,
             "#0d0887"
            ],
            [
             0.1111111111111111,
             "#46039f"
            ],
            [
             0.2222222222222222,
             "#7201a8"
            ],
            [
             0.3333333333333333,
             "#9c179e"
            ],
            [
             0.4444444444444444,
             "#bd3786"
            ],
            [
             0.5555555555555556,
             "#d8576b"
            ],
            [
             0.6666666666666666,
             "#ed7953"
            ],
            [
             0.7777777777777778,
             "#fb9f3a"
            ],
            [
             0.8888888888888888,
             "#fdca26"
            ],
            [
             1,
             "#f0f921"
            ]
           ],
           "sequentialminus": [
            [
             0,
             "#0d0887"
            ],
            [
             0.1111111111111111,
             "#46039f"
            ],
            [
             0.2222222222222222,
             "#7201a8"
            ],
            [
             0.3333333333333333,
             "#9c179e"
            ],
            [
             0.4444444444444444,
             "#bd3786"
            ],
            [
             0.5555555555555556,
             "#d8576b"
            ],
            [
             0.6666666666666666,
             "#ed7953"
            ],
            [
             0.7777777777777778,
             "#fb9f3a"
            ],
            [
             0.8888888888888888,
             "#fdca26"
            ],
            [
             1,
             "#f0f921"
            ]
           ]
          },
          "colorway": [
           "#636efa",
           "#EF553B",
           "#00cc96",
           "#ab63fa",
           "#FFA15A",
           "#19d3f3",
           "#FF6692",
           "#B6E880",
           "#FF97FF",
           "#FECB52"
          ],
          "font": {
           "color": "#2a3f5f"
          },
          "geo": {
           "bgcolor": "white",
           "lakecolor": "white",
           "landcolor": "#E5ECF6",
           "showlakes": true,
           "showland": true,
           "subunitcolor": "white"
          },
          "hoverlabel": {
           "align": "left"
          },
          "hovermode": "closest",
          "mapbox": {
           "style": "light"
          },
          "paper_bgcolor": "white",
          "plot_bgcolor": "#E5ECF6",
          "polar": {
           "angularaxis": {
            "gridcolor": "white",
            "linecolor": "white",
            "ticks": ""
           },
           "bgcolor": "#E5ECF6",
           "radialaxis": {
            "gridcolor": "white",
            "linecolor": "white",
            "ticks": ""
           }
          },
          "scene": {
           "xaxis": {
            "backgroundcolor": "#E5ECF6",
            "gridcolor": "white",
            "gridwidth": 2,
            "linecolor": "white",
            "showbackground": true,
            "ticks": "",
            "zerolinecolor": "white"
           },
           "yaxis": {
            "backgroundcolor": "#E5ECF6",
            "gridcolor": "white",
            "gridwidth": 2,
            "linecolor": "white",
            "showbackground": true,
            "ticks": "",
            "zerolinecolor": "white"
           },
           "zaxis": {
            "backgroundcolor": "#E5ECF6",
            "gridcolor": "white",
            "gridwidth": 2,
            "linecolor": "white",
            "showbackground": true,
            "ticks": "",
            "zerolinecolor": "white"
           }
          },
          "shapedefaults": {
           "line": {
            "color": "#2a3f5f"
           }
          },
          "ternary": {
           "aaxis": {
            "gridcolor": "white",
            "linecolor": "white",
            "ticks": ""
           },
           "baxis": {
            "gridcolor": "white",
            "linecolor": "white",
            "ticks": ""
           },
           "bgcolor": "#E5ECF6",
           "caxis": {
            "gridcolor": "white",
            "linecolor": "white",
            "ticks": ""
           }
          },
          "title": {
           "x": 0.05
          },
          "xaxis": {
           "automargin": true,
           "gridcolor": "white",
           "linecolor": "white",
           "ticks": "",
           "title": {
            "standoff": 15
           },
           "zerolinecolor": "white",
           "zerolinewidth": 2
          },
          "yaxis": {
           "automargin": true,
           "gridcolor": "white",
           "linecolor": "white",
           "ticks": "",
           "title": {
            "standoff": 15
           },
           "zerolinecolor": "white",
           "zerolinewidth": 2
          }
         }
        },
        "title": {
         "text": "Interactive 3D Plot"
        }
       }
      }
     },
     "metadata": {},
     "output_type": "display_data"
    }
   ],
   "source": [
    "import pandas as pd\n",
    "import numpy as np\n",
    "import plotly\n",
    "import plotly.graph_objects as go\n",
    "import cv2\n",
    "import kaleido \n",
    "\n",
    "# for frame in range(len(right_camera_x_coordinate)):\n",
    "for frame in range(1):\n",
    "        corners_left = np.array([[1055.489428\t,\t978.7120111\t,\t172.5491323\t,\t14.47797956\t,\t689.6676175\t,\t682.8931396\t,\t262.8755052\t,\t206.4215221]\t,[610.6143649\t,\t1414.519084\t,\t1547.750484\t,\t633.1959581,639.9704361,\t1066.762548\t,\t1111.925735\t,\t649.0030734]])\n",
    "\n",
    "        # corners_left_undistort = cv2.undistortImagePoints(corners_left, K2, D2)\n",
    "\n",
    "        corners_right = np.array([[983.2283297\t,\t913.2253907\t,\t170.2909729\t,\t5.445342265\t,\t908.709072\t,\t883.8693194\t,\t468.3680038\t,\t420.9466579]\t,[\t472.8666461\t,\t1432.584359\t,\t1321.934552\t,\t569.967497\t,\t549.6440631\t,\t1014.824884\t,\t1010.308565\t,\t585.7746123]])\n",
    "\n",
    "        # corners_right_undistort = cv2.undistortImagePoints(corners_right, K1, D1)\n",
    "\n",
    "        face_left = np.array([left_camera_x_coordinate[frame].reshape(-1), left_camera_y_coordinate[frame].reshape(-1)])\n",
    "        face_left = np.array(face_left, dtype=np.float32)\n",
    "       \n",
    "        face_right = np.array([right_camera_x_coordinate[frame], right_camera_y_coordinate[frame]])\n",
    "        face_right = np.array(face_right, dtype=np.float32)\n",
    "\n",
    "\n",
    "        P1 = np.hstack((K1, np.zeros((3,1))))\n",
    "        RT = np.hstack((R,T))\n",
    "        K2_RT = np.dot(K2, RT)\n",
    "        P2 = np.dot(K2,RT)\n",
    "\n",
    "        facepoints_4D = cv2.triangulatePoints(P2,P1, face_left, face_right)\n",
    "        facepoints_3D = facepoints_4D[:3] / facepoints_4D[3]\n",
    "        facepoints_3D = np.dot(R, facepoints_3D) + T\n",
    "        points_4D = cv2.triangulatePoints(P2,P1, corners_left, corners_right)\n",
    "        points_3D = points_4D[:3] / points_4D[3]\n",
    "        points_3D = np.dot(R, points_3D) + T\n",
    "\n",
    "        x_3d,y_3d,z_3d = points_3D\n",
    "        facex_3d, facey_3d, facez_3d = facepoints_3D\n",
    "\n",
    "        fig = go.Figure()\n",
    "\n",
    "        fig.add_trace(go.Scatter3d(\n",
    "        x=facex_3d,\n",
    "        y=facey_3d,\n",
    "        z=facez_3d,\n",
    "        mode='markers',\n",
    "        marker=dict(size=5, color='red'),\n",
    "        name='3D Points'\n",
    "        ))\n",
    "\n",
    "        # Connect the points\n",
    "\n",
    "        for i in range(0,3):\n",
    "                fig.add_trace(go.Scatter3d(\n",
    "                x=[x_3d[i], x_3d[i + 1]],\n",
    "                y=[y_3d[i], y_3d[i + 1]],\n",
    "                z=[z_3d[i], z_3d[i + 1]],\n",
    "                mode='lines',\n",
    "                line=dict(color='black', width=2),\n",
    "                name='Connecting Lines'\n",
    "                ))\n",
    "\n",
    "\n",
    "\n",
    "        fig.add_trace(go.Scatter3d(\n",
    "                x=[facex_3d[1], facex_3d[0]],\n",
    "                y=[facey_3d[1], facey_3d[0]],\n",
    "                z=[facez_3d[1], facez_3d[0]],\n",
    "                mode='lines',\n",
    "                line=dict(color='blue', width=2),\n",
    "                name='Connecting Lines'\n",
    "        ))\n",
    "\n",
    "        for i in range(4,7):\n",
    "                fig.add_trace(go.Scatter3d(\n",
    "                x=[x_3d[i], x_3d[i + 1]],\n",
    "                y=[y_3d[i], y_3d[i + 1]],\n",
    "                z=[z_3d[i], z_3d[i + 1]],\n",
    "                mode='lines',\n",
    "                line=dict(color='black', width=2),\n",
    "                name='Connecting Lines'\n",
    "                ))\n",
    "        \n",
    "        fig.add_trace(go.Scatter3d(\n",
    "                x=[facex_3d[1], facex_3d[4]],\n",
    "                y=[facey_3d[1], facey_3d[4]],\n",
    "                z=[facez_3d[1], facez_3d[4]],\n",
    "                mode='lines',\n",
    "                line=dict(color='blue', width=2),\n",
    "                name='Connecting Lines'\n",
    "        ))\n",
    "\n",
    "        fig.add_trace(go.Scatter3d(\n",
    "                x=[facex_3d[5], facex_3d[4]],\n",
    "                y=[facey_3d[5], facey_3d[4]],\n",
    "                z=[facez_3d[5], facez_3d[4]],\n",
    "                mode='lines',\n",
    "                line=dict(color='blue', width=2),\n",
    "                name='Connecting Lines'\n",
    "        ))\n",
    "\n",
    "        fig.add_trace(go.Scatter3d(\n",
    "                x=[facex_3d[2], facex_3d[3]],\n",
    "                y=[facey_3d[2], facey_3d[3]],\n",
    "                z=[facez_3d[2], facez_3d[3]],\n",
    "                mode='lines',\n",
    "                line=dict(color='blue', width=2),\n",
    "                name='Connecting Lines'\n",
    "        ))\n",
    "\n",
    "        for i in range(0,4):\n",
    "                fig.add_trace(go.Scatter3d(\n",
    "                x=[x_3d[i], x_3d[i + 4]],\n",
    "                y=[y_3d[i], y_3d[i + 4]],\n",
    "                z=[z_3d[i], z_3d[i + 4]],\n",
    "                mode='lines',\n",
    "                line=dict(color='black', width=2),\n",
    "                name='Connecting Lines'\n",
    "                ))\n",
    "        \n",
    "        fig.add_trace(go.Scatter3d(\n",
    "                x=[x_3d[0], x_3d[3]],\n",
    "                y=[y_3d[0], y_3d[3]],\n",
    "                z=[z_3d[0], z_3d[3]],\n",
    "                mode='lines',\n",
    "                line=dict(color='black', width=2),\n",
    "                name='Connecting Lines'\n",
    "        ))\n",
    "\n",
    "        fig.add_trace(go.Scatter3d(\n",
    "                x=[x_3d[4], x_3d[7]],\n",
    "                y=[y_3d[4], y_3d[7]],\n",
    "                z=[z_3d[4], z_3d[7]],\n",
    "                mode='lines',\n",
    "                line=dict(color='black', width=2),\n",
    "                name='Connecting Lines'\n",
    "        ))\n",
    "\n",
    "        #fill back side of the box\n",
    "        fig.add_scatter3d(x=[x_3d[4], x_3d[5], x_3d[6], x_3d[7]],  \n",
    "                        y=[y_3d[4], y_3d[5], y_3d[6], y_3d[7]],  \n",
    "                        z=[z_3d[4], z_3d[5], z_3d[6], z_3d[7]], \n",
    "                                surfaceaxis=2, surfacecolor='purple',\n",
    "                                mode='lines', opacity = 0.5,\n",
    "                line=dict(color='purple', width=2),\n",
    "                name='Back of the box')\n",
    "\n",
    "        #fill bottom side of the box\n",
    "        fig.add_scatter3d(x=[x_3d[1], x_3d[5], x_3d[6], x_3d[2]],  \n",
    "                        y=[y_3d[1], y_3d[5], y_3d[6], y_3d[2]],  \n",
    "                        z=[z_3d[1], z_3d[5], z_3d[6], z_3d[2]], \n",
    "                                surfaceaxis=2, surfacecolor='yellow',\n",
    "                                mode='lines', opacity = 0.5,\n",
    "                line=dict(color='yellow', width=2),\n",
    "                name='Bottom of the box')\n",
    "\n",
    "        #fill top side of the box\n",
    "        fig.add_scatter3d(x=[x_3d[4], x_3d[0], x_3d[3], x_3d[7]],  \n",
    "                        y=[y_3d[4], y_3d[0], y_3d[3], y_3d[7]],  \n",
    "                        z=[z_3d[4], z_3d[0], z_3d[3], z_3d[7]], \n",
    "                                surfaceaxis=2, surfacecolor='green',\n",
    "                                mode='lines', opacity = 0.5,\n",
    "                line=dict(color='green', width=2),\n",
    "                name='Top of the box')\n",
    "\n",
    "        #mark corner #5\n",
    "#         fig.add_trace(go.Scatter3d(\n",
    "#                         x=[x_3d[6]],\n",
    "#                         y=[y_3d[6]],\n",
    "#                         z=[z_3d[6]],\n",
    "#                         mode='markers',\n",
    "#                         marker=dict(\n",
    "#                         size=10,      # Size of the markers\n",
    "#                         color='black', # Color of the markers\n",
    "#                         )\n",
    "# ))\n",
    "\n",
    "        # Update layout\n",
    "        fig.update_layout(\n",
    "        scene=dict(\n",
    "                xaxis_title='X axis',\n",
    "                yaxis_title='Y axis',\n",
    "                zaxis_title='Z axis'\n",
    "        ),\n",
    "        title='Interactive 3D Plot'\n",
    "        )\n",
    "        # change visual orientation\n",
    "        # fig.update_layout(\n",
    "        # scene=dict(\n",
    "        # camera=dict(\n",
    "        #     eye=dict(x=1.5, y=1.5, z=1.5),\n",
    "        #     up=dict(x=10, y=10, z=1)  # This sets the up direction\n",
    "        # )))\n",
    "\n",
    "        # Show the plot\n",
    "        fig.show()\n",
    "        # fig.write_html('frame_' + str(frame) + '.html')\n",
    "        # fig.write_image('frame_' + str(frame) + '.png', format='png') #takes more time than html but works now! "
   ]
  },
  {
   "cell_type": "code",
   "execution_count": 22,
   "metadata": {},
   "outputs": [
    {
     "data": {
      "application/javascript": [
       "// Access the first Plotly figure instance\n",
       "let figure = Plotly.Plots.instances[0];\n",
       "\n",
       "// Log the camera settings to the console\n",
       "if (figure) {\n",
       "    console.log(figure.gd.layout.scene.camera);\n",
       "} else {\n",
       "    console.log('No Plotly instance found');\n",
       "}\n"
      ],
      "text/plain": [
       "<IPython.core.display.Javascript object>"
      ]
     },
     "metadata": {},
     "output_type": "display_data"
    }
   ],
   "source": [
    "%%javascript\n",
    "// Access the first Plotly figure instance\n",
    "let figure = Plotly.Plots.instances[0];\n",
    "\n",
    "// Log the camera settings to the console\n",
    "if (figure) {\n",
    "    console.log(figure.gd.layout.scene.camera);\n",
    "} else {\n",
    "    console.log('No Plotly instance found');\n",
    "}"
   ]
  },
  {
   "cell_type": "code",
   "execution_count": 15,
   "metadata": {},
   "outputs": [
    {
     "name": "stdout",
     "output_type": "stream",
     "text": [
      "Name: kaleido\n",
      "Version: 0.2.1\n",
      "Summary: Static image export for web-based visualization libraries with zero dependencies\n",
      "Home-page: UNKNOWN\n",
      "Author: Jon Mease\n",
      "Author-email: jon@plotly.com\n",
      "License: MIT\n",
      "Location: /Users/omohan/opt/anaconda3/lib/python3.9/site-packages\n",
      "Requires: \n",
      "Required-by: \n",
      "Requirement already satisfied: plotly in /Users/omohan/opt/anaconda3/lib/python3.9/site-packages (5.24.1)\n",
      "Requirement already satisfied: packaging in /Users/omohan/opt/anaconda3/lib/python3.9/site-packages (from plotly) (21.0)\n",
      "Requirement already satisfied: tenacity>=6.2.0 in /Users/omohan/opt/anaconda3/lib/python3.9/site-packages (from plotly) (9.0.0)\n",
      "Requirement already satisfied: pyparsing>=2.0.2 in /Users/omohan/opt/anaconda3/lib/python3.9/site-packages (from packaging->plotly) (3.0.4)\n"
     ]
    }
   ],
   "source": [
    "!pip show kaleido\n",
    "!pip install -U plotly"
   ]
  },
  {
   "cell_type": "code",
   "execution_count": 49,
   "metadata": {},
   "outputs": [
    {
     "data": {
      "image/png": "[encoded data removed]",
      "text/plain": [
       "<Figure size 640x480 with 1 Axes>"
      ]
     },
     "metadata": {},
     "output_type": "display_data"
    },
    {
     "data": {
      "image/png": "[encoded data removed]",
      "text/plain": [
       "<Figure size 640x480 with 1 Axes>"
      ]
     },
     "metadata": {},
     "output_type": "display_data"
    }
   ],
   "source": [
    "import matplotlib.pyplot as plt\n",
    "import matplotlib.image as mpimg\n",
    "\n",
    "# Read the image\n",
    "image = mpimg.imread('img192_1.jpg')  # Replace with your image path\n",
    "\n",
    "###################### Coordinates for Cam 1 (Left)\n",
    "# Define the 2D coordinates for the shape (polygon) Bottom of the box \n",
    "x_bottom = [\t978.7120111\t,\t172.5491323\t,\t\t262.8755052, 682.8931396 ]\t\n",
    "y_bottom = [\t1414.519084\t,\t1547.750484\t\t,\t1111.925735, 1066.762548 ]\n",
    "\n",
    "x_back = [689.6676175\t,\t682.8931396\t,\t262.8755052\t,\t206.4215221\t]\n",
    "y_back = [639.9704361,\t1066.762548\t,\t1111.925735\t,\t649.0030734]\n",
    "\n",
    "x_top = [1055.489428,\t14.47797956\t,\t689.6676175\t,\t\t206.4215221\t]\t\n",
    "y_top = [610.6143649,\t633.1959581, 639.9704361,\t649.0030734]\n",
    "\n",
    "# Create a new figure\n",
    "plt.figure()\n",
    "\n",
    "# Display the image\n",
    "plt.imshow(image, extent=[0, image.shape[1], image.shape[0], 0])  # Set extent to match the image dimensions\n",
    "\n",
    "# Fill the shape on top of the image\n",
    "plt.fill(x_bottom, y_bottom, color='yellow', alpha=0.5)  # Fill color with transparency\n",
    "plt.fill(x_back, y_back, color='purple', alpha=0.5) \n",
    "plt.fill(x_top, y_top, color='green', alpha=0.5) \n",
    "\n",
    "#plot corner #5\n",
    "plt.scatter(x =689.6676175\t, y=\t639.9704361, color = 'black')\n",
    "\n",
    "\n",
    "# Optional: Customize the plot\n",
    "plt.xlim(0, image.shape[1])\n",
    "plt.ylim(image.shape[0], 0)  # Invert the y-axis to match the image coordinate system\n",
    "plt.title('Filled Shape on Image')\n",
    "plt.xlabel('X Axis')\n",
    "plt.ylabel('Y Axis')\n",
    "\n",
    "# Show the plot\n",
    "plt.show()\n",
    "\n",
    "\n",
    "############### Coordinates for Cam 2 (Right) \n",
    "\n",
    "image = mpimg.imread('img192_2.jpg')  # Replace with your image path\n",
    "# # Define the 2D coordinates for the shape (polygon) Bottom of the box \n",
    "x_bottom = [913.2253907\t,\t170.2909729\t,\t468.3680038\t, 883.8693194\t]\t\n",
    "y_bottom = [1432.584359\t,\t1321.934552\t,\t1010.308565, 1014.824884\t,\t]\n",
    "\n",
    "x_back =[\t908.709072\t,\t883.8693194\t,\t468.3680038\t,\t420.9466579\t]\t\n",
    "y_back = [\t549.6440631\t,\t1014.824884\t,\t1010.308565\t,\t585.7746123]\n",
    "\n",
    "x_top = [983.2283297\t,\t\t5.445342265\t,\t420.9466579\t, 908.709072]\t\n",
    "y_top = [\t472.8666461\t,\t569.967497\t,585.7746123,\t549.6440631\t\t]\n",
    "\n",
    "\n",
    "# Create a new figure\n",
    "plt.figure()\n",
    "\n",
    "# Display the image\n",
    "plt.imshow(image, extent=[0, image.shape[1], image.shape[0], 0])  # Set extent to match the image dimensions\n",
    "\n",
    "# Fill the shape on top of the image\n",
    "plt.fill(x_bottom, y_bottom, color='yellow', alpha=0.5)  # Fill color with transparency\n",
    "plt.fill(x_back, y_back, color='purple', alpha=0.5) \n",
    "plt.fill(x_top, y_top, color='green', alpha=0.5) \n",
    "\n",
    "#plot corner #5\n",
    "plt.scatter(x =908.709072, y=\t549.6440631, color = 'black')\n",
    "\n",
    "# Optional: Customize the plot\n",
    "plt.xlim(0, image.shape[1])\n",
    "plt.ylim(image.shape[0], 0)  # Invert the y-axis to match the image coordinate system\n",
    "plt.title('Filled Shape on Image')\n",
    "plt.xlabel('X Axis')\n",
    "plt.ylabel('Y Axis')\n",
    "\n",
    "# Show the plot\n",
    "plt.show()\n"
   ]
  }
 ],
 "metadata": {
  "kernelspec": {
   "display_name": "Python 3 (ipykernel)",
   "language": "python",
   "name": "python3"
  },
  "language_info": {
   "codemirror_mode": {
    "name": "ipython",
    "version": 3
   },
   "file_extension": ".py",
   "mimetype": "text/x-python",
   "name": "python",
   "nbconvert_exporter": "python",
   "pygments_lexer": "ipython3",
   "version": "3.9.7"
  }
 },
 "nbformat": 4,
 "nbformat_minor": 2
}
